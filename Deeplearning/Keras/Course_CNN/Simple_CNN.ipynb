{
 "cells": [
  {
   "cell_type": "code",
   "execution_count": 1,
   "metadata": {},
   "outputs": [],
   "source": [
    "from tensorflow import keras\n",
    "import numpy as np\n",
    "import matplotlib.pyplot as plt "
   ]
  },
  {
   "cell_type": "code",
   "execution_count": 2,
   "metadata": {},
   "outputs": [],
   "source": [
    "#data preperation\n",
    "\n",
    "#get data\n",
    "(x_train, y_train), (x_test, y_test) = keras.datasets.cifar10.load_data()\n",
    "\n",
    "#center data\n",
    "x_train = x_train.astype('float32') / 255\n",
    "x_test = x_test.astype('float32')/255\n",
    "\n",
    "#categorize output\n",
    "#utils.to_categorical --> 10\n",
    "y_train = keras.utils.to_categorical(y_train, 10)\n",
    "y_test = keras.utils.to_categorical(y_test, 10)"
   ]
  },
  {
   "cell_type": "code",
   "execution_count": 3,
   "metadata": {},
   "outputs": [
    {
     "data": {
      "text/plain": [
       "<matplotlib.image.AxesImage at 0x15e31204c10>"
      ]
     },
     "execution_count": 3,
     "metadata": {},
     "output_type": "execute_result"
    },
    {
     "data": {
      "image/png": "[encoded data removed]",
      "text/plain": [
       "<Figure size 432x288 with 1 Axes>"
      ]
     },
     "metadata": {
      "needs_background": "light"
     },
     "output_type": "display_data"
    }
   ],
   "source": [
    "plt.imshow(x_train[8])\n",
    "plt.imshow(x_train[6])"
   ]
  },
  {
   "cell_type": "code",
   "execution_count": 4,
   "metadata": {},
   "outputs": [],
   "source": [
    "#16\n",
    "#CNN model\n",
    "\n",
    "#keras sequential\n",
    "model1 = keras.Sequential()\n",
    "\n",
    "#2layers, maxpool, dropout\n",
    "model1.add(keras.layers.Conv2D(filters=32,kernel_size=(3, 3),activation=\"relu\", input_shape=(32, 32, 3), padding=\"same\"))\n",
    "model1.add(keras.layers.Conv2D(filters=32, kernel_size=(3, 3),activation=\"relu\"))\n",
    "model1.add(keras.layers.MaxPool2D(pool_size=(2, 2)))\n",
    "model1.add(keras.layers.Dropout(rate=.25))\n",
    "\n",
    "#check all 4 lines are needed, or only last 3\n",
    "#repetition of previous part\n",
    "model1.add(keras.layers.Conv2D(filters=32,kernel_size=(3, 3),activation=\"relu\"))\n",
    "model1.add(keras.layers.Conv2D(filters=32, kernel_size=(3, 3),activation=\"relu\"))\n",
    "model1.add(keras.layers.MaxPool2D(pool_size=(2, 2)))\n",
    "model1.add(keras.layers.Dropout(rate=.25))\n",
    "\n",
    "#flatten result\n",
    "model1.add(keras.layers.Flatten())\n",
    "\n",
    "#fully connected layer + dropout\n",
    "model1.add(keras.layers.Dense(512, activation=\"relu\"))\n",
    "model1.add(keras.layers.Dropout(rate=.5))\n",
    "\n",
    "#output layer -- 10 categories\n",
    "model1.add(keras.layers.Dense(10, activation=\"softmax\"))"
   ]
  },
  {
   "cell_type": "code",
   "execution_count": null,
   "metadata": {},
   "outputs": [],
   "source": [
    "#compile\n",
    "model1.compile(loss='categorical_crossentropy', optimizer=keras.optimizers.RMSprop(lr=0.0001,\n",
    "decay=1e-6), metrics='accuracy')"
   ]
  },
  {
   "cell_type": "code",
   "execution_count": 5,
   "metadata": {},
   "outputs": [
    {
     "name": "stdout",
     "output_type": "stream",
     "text": [
      "Epoch 1/20\n",
      "1563/1563 [==============================] - 155s 97ms/step - loss: 2.1173 - accuracy: 0.2036 - val_loss: 1.6884 - val_accuracy: 0.3885\n",
      "Epoch 2/20\n",
      "1563/1563 [==============================] - 146s 94ms/step - loss: 1.6981 - accuracy: 0.3776 - val_loss: 1.5062 - val_accuracy: 0.4530\n",
      "Epoch 3/20\n",
      "1563/1563 [==============================] - 147s 94ms/step - loss: 1.5311 - accuracy: 0.4344 - val_loss: 1.4094 - val_accuracy: 0.4881\n",
      "Epoch 4/20\n",
      "1563/1563 [==============================] - 174s 111ms/step - loss: 1.4450 - accuracy: 0.4757 - val_loss: 1.3619 - val_accuracy: 0.5102\n",
      "Epoch 5/20\n",
      "1563/1563 [==============================] - 155s 99ms/step - loss: 1.3859 - accuracy: 0.5034 - val_loss: 1.2782 - val_accuracy: 0.5391\n",
      "Epoch 6/20\n",
      "1563/1563 [==============================] - 144s 92ms/step - loss: 1.3322 - accuracy: 0.5220 - val_loss: 1.2512 - val_accuracy: 0.5490\n",
      "Epoch 7/20\n",
      "1563/1563 [==============================] - 139s 89ms/step - loss: 1.2738 - accuracy: 0.5471 - val_loss: 1.1708 - val_accuracy: 0.5808\n",
      "Epoch 8/20\n",
      "1563/1563 [==============================] - 137s 87ms/step - loss: 1.2201 - accuracy: 0.5654 - val_loss: 1.1375 - val_accuracy: 0.5933\n",
      "Epoch 9/20\n",
      "1563/1563 [==============================] - 139s 89ms/step - loss: 1.1997 - accuracy: 0.5735 - val_loss: 1.0984 - val_accuracy: 0.6157\n",
      "Epoch 10/20\n",
      "1563/1563 [==============================] - 136s 87ms/step - loss: 1.1600 - accuracy: 0.5877 - val_loss: 1.0799 - val_accuracy: 0.6153\n",
      "Epoch 11/20\n",
      "1563/1563 [==============================] - 137s 88ms/step - loss: 1.1208 - accuracy: 0.6018 - val_loss: 1.0655 - val_accuracy: 0.6197\n",
      "Epoch 12/20\n",
      "1563/1563 [==============================] - 140s 89ms/step - loss: 1.1002 - accuracy: 0.6124 - val_loss: 1.0213 - val_accuracy: 0.6352\n",
      "Epoch 13/20\n",
      "1563/1563 [==============================] - 138s 88ms/step - loss: 1.0692 - accuracy: 0.6265 - val_loss: 0.9987 - val_accuracy: 0.6485\n",
      "Epoch 14/20\n",
      "1563/1563 [==============================] - 135s 86ms/step - loss: 1.0518 - accuracy: 0.6270 - val_loss: 0.9893 - val_accuracy: 0.6472\n",
      "Epoch 15/20\n",
      "1563/1563 [==============================] - 137s 88ms/step - loss: 1.0259 - accuracy: 0.6383 - val_loss: 0.9764 - val_accuracy: 0.6558\n",
      "Epoch 16/20\n",
      "1563/1563 [==============================] - 139s 89ms/step - loss: 1.0121 - accuracy: 0.6430 - val_loss: 0.9423 - val_accuracy: 0.6678\n",
      "Epoch 17/20\n",
      "1563/1563 [==============================] - 137s 88ms/step - loss: 0.9904 - accuracy: 0.6510 - val_loss: 0.9223 - val_accuracy: 0.6738\n",
      "Epoch 18/20\n",
      "1563/1563 [==============================] - 135s 87ms/step - loss: 0.9757 - accuracy: 0.6573 - val_loss: 0.9442 - val_accuracy: 0.6685\n",
      "Epoch 19/20\n",
      "1563/1563 [==============================] - 134s 86ms/step - loss: 0.9562 - accuracy: 0.6633 - val_loss: 0.9175 - val_accuracy: 0.6782\n",
      "Epoch 20/20\n",
      "1563/1563 [==============================] - 138s 88ms/step - loss: 0.9421 - accuracy: 0.6708 - val_loss: 0.8960 - val_accuracy: 0.6856\n"
     ]
    }
   ],
   "source": [
    "#model fit saved in history\n",
    "history1 = model1.fit(x_train, y_train, batch_size=32, epochs=20, verbose=1, validation_data=(x_test, y_test), shuffle=True)"
   ]
  },
  {
   "cell_type": "code",
   "execution_count": 10,
   "metadata": {},
   "outputs": [
    {
     "name": "stdout",
     "output_type": "stream",
     "text": [
      "INFO:tensorflow:Assets written to: model_1.3\\assets\n",
      "Model: \"sequential\"\n",
      "_________________________________________________________________\n",
      "Layer (type)                 Output Shape              Param #   \n",
      "=================================================================\n",
      "conv2d (Conv2D)              (None, 32, 32, 32)        896       \n",
      "_________________________________________________________________\n",
      "conv2d_1 (Conv2D)            (None, 30, 30, 32)        9248      \n",
      "_________________________________________________________________\n",
      "max_pooling2d (MaxPooling2D) (None, 15, 15, 32)        0         \n",
      "_________________________________________________________________\n",
      "dropout (Dropout)            (None, 15, 15, 32)        0         \n",
      "_________________________________________________________________\n",
      "conv2d_2 (Conv2D)            (None, 13, 13, 32)        9248      \n",
      "_________________________________________________________________\n",
      "conv2d_3 (Conv2D)            (None, 11, 11, 32)        9248      \n",
      "_________________________________________________________________\n",
      "max_pooling2d_1 (MaxPooling2 (None, 5, 5, 32)          0         \n",
      "_________________________________________________________________\n",
      "dropout_1 (Dropout)          (None, 5, 5, 32)          0         \n",
      "_________________________________________________________________\n",
      "flatten (Flatten)            (None, 800)               0         \n",
      "_________________________________________________________________\n",
      "dense (Dense)                (None, 512)               410112    \n",
      "_________________________________________________________________\n",
      "dropout_2 (Dropout)          (None, 512)               0         \n",
      "_________________________________________________________________\n",
      "dense_1 (Dense)              (None, 10)                5130      \n",
      "=================================================================\n",
      "Total params: 443,882\n",
      "Trainable params: 443,882\n",
      "Non-trainable params: 0\n",
      "_________________________________________________________________\n"
     ]
    }
   ],
   "source": [
    "# model1.save(\"model_1.3\")\n",
    "model1.summary()"
   ]
  },
  {
   "cell_type": "code",
   "execution_count": 7,
   "metadata": {},
   "outputs": [
    {
     "data": {
      "image/png": "[encoded data removed]",
      "text/plain": [
       "<Figure size 432x288 with 1 Axes>"
      ]
     },
     "metadata": {
      "needs_background": "light"
     },
     "output_type": "display_data"
    }
   ],
   "source": [
    "#history for accuracy\n",
    "plt.plot(history1.history['accuracy'])\n",
    "plt.plot(history1.history['val_accuracy'])\n",
    "plt.title('model accuracy')\n",
    "plt.ylabel('accuracy')\n",
    "plt.xlabel('epoch')\n",
    "plt.legend(['train', 'test'], loc='upper left')\n",
    "plt.show()"
   ]
  },
  {
   "cell_type": "code",
   "execution_count": 8,
   "metadata": {},
   "outputs": [
    {
     "data": {
      "image/png": "[encoded data removed]",
      "text/plain": [
       "<Figure size 432x288 with 1 Axes>"
      ]
     },
     "metadata": {
      "needs_background": "light"
     },
     "output_type": "display_data"
    }
   ],
   "source": [
    "#History for loss\n",
    "plt.plot(history1.history['loss'])\n",
    "plt.plot(history1.history['val_loss'])\n",
    "plt.title('model loss')\n",
    "plt.ylabel('loss')\n",
    "plt.xlabel('epoch')\n",
    "plt.legend(['train', 'test'], loc='upper left')\n",
    "plt.show()"
   ]
  },
  {
   "cell_type": "code",
   "execution_count": 9,
   "metadata": {},
   "outputs": [
    {
     "name": "stdout",
     "output_type": "stream",
     "text": [
      " loss = 0.896 \n",
      " accuracy = 0.686\n"
     ]
    }
   ],
   "source": [
    "loss, accuracy = model1.evaluate(x_test, y_test, verbose=0)\n",
    "print(f\" loss = {round(loss,3)} \\n accuracy = {round(accuracy,3)}\")"
   ]
  }
 ],
 "metadata": {
  "kernelspec": {
   "display_name": "Python 3",
   "language": "python",
   "name": "python3"
  },
  "language_info": {
   "codemirror_mode": {
    "name": "ipython",
    "version": 3
   },
   "file_extension": ".py",
   "mimetype": "text/x-python",
   "name": "python",
   "nbconvert_exporter": "python",
   "pygments_lexer": "ipython3",
   "version": "3.8.5"
  }
 },
 "nbformat": 4,
 "nbformat_minor": 4
}
