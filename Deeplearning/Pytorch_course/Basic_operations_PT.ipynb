{
 "cells": [
  {
   "cell_type": "code",
   "execution_count": 3,
   "metadata": {},
   "outputs": [],
   "source": [
    "import torch"
   ]
  },
  {
   "cell_type": "code",
   "execution_count": 12,
   "metadata": {},
   "outputs": [
    {
     "output_type": "execute_result",
     "data": {
      "text/plain": [
       "tensor([1, 2, 3])"
      ]
     },
     "metadata": {},
     "execution_count": 12
    }
   ],
   "source": [
    "t = torch.tensor([1,2,3])\n"
   ]
  },
  {
   "cell_type": "code",
   "execution_count": 20,
   "metadata": {},
   "outputs": [],
   "source": [
    "import torch\n",
    "import numpy as np"
   ]
  },
  {
   "source": [
    "t = torch.Tensor()\n",
    "type(t)\n",
    "print(t.dtype)\n",
    "print(t.device)\n",
    "print(t.layout)\n",
    "\n",
    "device = torch.device(\"cuda:0\")\n",
    "device"
   ],
   "cell_type": "code",
   "metadata": {},
   "execution_count": null,
   "outputs": []
  },
  {
   "cell_type": "code",
   "execution_count": 38,
   "metadata": {},
   "outputs": [
    {
     "output_type": "execute_result",
     "data": {
      "text/plain": [
       "tensor([[0.9500, 0.7322, 0.0321],\n",
       "        [0.0066, 0.0442, 0.0060],\n",
       "        [0.8717, 0.6812, 0.9150]])"
      ]
     },
     "metadata": {},
     "execution_count": 38
    }
   ],
   "source": [
    "#numpy like operations\n",
    "torch.eye(4)\n",
    "torch.zeros(4,4)\n",
    "torch.ones(4,4)\n",
    "torch.rand(3,3)"
   ]
  },
  {
   "cell_type": "code",
   "execution_count": 48,
   "metadata": {},
   "outputs": [
    {
     "output_type": "stream",
     "name": "stdout",
     "text": [
      "torch.float32\ntorch.int32\ntorch.int32\ntorch.int32\n"
     ]
    },
    {
     "output_type": "execute_result",
     "data": {
      "text/plain": [
       "tensor([1., 2., 3.], dtype=torch.float64)"
      ]
     },
     "metadata": {},
     "execution_count": 48
    }
   ],
   "source": [
    "#some try outs with differnt functions with arrays\n",
    "data = np.array([1,2,3])\n",
    "\n",
    "t1 = torch.Tensor(data) # constructer, uses default type\n",
    "torch.get_default_dtype()\n",
    "\n",
    "#factories use dtype infered from data\n",
    "t2 = torch.tensor(data) # factory\n",
    "t3 = torch.as_tensor(data) # factory\n",
    "t4 = torch.from_numpy(data) # factory\n",
    "\n",
    "print(t1.dtype) # copy input\n",
    "print(t2.dtype) # copy inputs --> best option\n",
    "print(t3.dtype) # share inputs --> \n",
    "print(t4.dtype) # share inputs\n",
    "\n",
    "#specify it manually\n",
    "torch.tensor(np.array([1,2,3]), dtype=torch.float64)"
   ]
  },
  {
   "source": [
    "# reshaping operations:: very important\n",
    "\n",
    "# element wise operations\n",
    "# \n"
   ],
   "cell_type": "code",
   "metadata": {},
   "execution_count": 52,
   "outputs": [
    {
     "output_type": "execute_result",
     "data": {
      "text/plain": [
       "torch.Size([3, 4])"
      ]
     },
     "metadata": {},
     "execution_count": 52
    }
   ]
  },
  {
   "cell_type": "code",
   "execution_count": 57,
   "metadata": {},
   "outputs": [],
   "source": [
    "t = torch.tensor([[1,1,1,1],[2,2,2,2], [3,3,3,3]], dtype=torch.float32)\n",
    "t.size()\n",
    "t.shape\n",
    "\n",
    "len(t.shape)\n",
    "torch.tensor(t.shape).prod()\n",
    "t.numel() # number of elements\n",
    "\n",
    "# flatten --> 1d array containing all scalars\n",
    "\n",
    "\n"
   ]
  },
  {
   "cell_type": "code",
   "execution_count": 62,
   "metadata": {},
   "outputs": [
    {
     "output_type": "execute_result",
     "data": {
      "text/plain": [
       "tensor([[1.],\n",
       "        [1.],\n",
       "        [1.],\n",
       "        [1.],\n",
       "        [2.],\n",
       "        [2.],\n",
       "        [2.],\n",
       "        [2.],\n",
       "        [3.],\n",
       "        [3.],\n",
       "        [3.],\n",
       "        [3.]])"
      ]
     },
     "metadata": {},
     "execution_count": 62
    }
   ],
   "source": [
    "def flatten(t):\n",
    "    t = t.reshape(1,-1)\n",
    "    t - t.squeeze()\n",
    "    return t\n",
    "\n",
    "flatten(t)\n",
    "#alternative for flatten function\n",
    "t.reshape(t.numel(), 1)"
   ]
  }
 ],
 "metadata": {
  "kernelspec": {
   "name": "python385jvsc74a57bd073761e8a65ef4baed6e0524bb8131aca05507f3ceffbe24eb501f6a7780282b1",
   "display_name": "Python 3.8.5 64-bit ('base': conda)"
  },
  "language_info": {
   "codemirror_mode": {
    "name": "ipython",
    "version": 3
   },
   "file_extension": ".py",
   "mimetype": "text/x-python",
   "name": "python",
   "nbconvert_exporter": "python",
   "pygments_lexer": "ipython3",
   "version": "3.8.5"
  }
 },
 "nbformat": 4,
 "nbformat_minor": 4
}